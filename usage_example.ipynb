{
 "cells": [
  {
   "cell_type": "markdown",
   "metadata": {
    "id": "_w3tH0w9NJgT"
   },
   "source": [
    "# Usage example in Google Colab"
   ]
  },
  {
   "cell_type": "code",
   "execution_count": null,
   "metadata": {
    "colab": {
     "base_uri": "https://localhost:8080/"
    },
    "id": "QMsGDikSNJgU",
    "outputId": "5258bf7b-70dc-4cc1-9c27-cf8e17ba84fb",
    "vscode": {
     "languageId": "plaintext"
    }
   },
   "outputs": [],
   "source": [
    "! pip install --upgrade transformers pymupdf qwen_vl_utils chromadb"
   ]
  },
  {
   "cell_type": "code",
   "execution_count": null,
   "metadata": {
    "id": "Ex6shny9OVaM"
   },
   "outputs": [],
   "source": [
    "! rm -rf multimodal-rag-helper"
   ]
  },
  {
   "cell_type": "code",
   "execution_count": null,
   "metadata": {
    "colab": {
     "base_uri": "https://localhost:8080/"
    },
    "id": "AAeddXQ4NJgV",
    "outputId": "d4504e9d-83bc-47cb-8946-aa67497a0d1d",
    "vscode": {
     "languageId": "plaintext"
    }
   },
   "outputs": [],
   "source": [
    "! git clone https://github.com/danielemansillo/multimodal-rag-helper.git"
   ]
  },
  {
   "cell_type": "code",
   "execution_count": null,
   "metadata": {
    "id": "u4GxO0PcNrBE"
   },
   "outputs": [],
   "source": [
    "import sys\n",
    "\n",
    "sys.path.insert(0, \"/content/multimodal-rag-helper\")"
   ]
  },
  {
   "cell_type": "code",
   "execution_count": null,
   "metadata": {
    "colab": {
     "base_uri": "https://localhost:8080/",
     "height": 530
    },
    "id": "IoHtQyYHN3GL",
    "outputId": "3017af6d-52cf-46dc-cd28-0e2743893843"
   },
   "outputs": [],
   "source": [
    "import json\n",
    "from pathlib import Path\n",
    "from typing import List\n",
    "\n",
    "import chromadb\n",
    "from IPython import display\n",
    "from PIL import Image\n",
    "\n",
    "from document_processing import DocumentProcessor, FolderProcessor\n",
    "from models import DSE_Embedder"
   ]
  },
  {
   "cell_type": "markdown",
   "metadata": {
    "id": "rfT6M0eVNJgV"
   },
   "source": [
    "## Initialize Folder Processor"
   ]
  },
  {
   "cell_type": "code",
   "execution_count": null,
   "metadata": {
    "id": "OZHvJqscNJgV",
    "vscode": {
     "languageId": "plaintext"
    }
   },
   "outputs": [],
   "source": [
    "folder_path = Path(\"/content/multimodal-rag-helper/presentations/\")\n",
    "folder_processor: FolderProcessor = FolderProcessor(folder_path)"
   ]
  },
  {
   "cell_type": "markdown",
   "metadata": {
    "id": "lmNqmaQiNJgW"
   },
   "source": [
    "## Initialize Embedder"
   ]
  },
  {
   "cell_type": "code",
   "execution_count": null,
   "metadata": {
    "colab": {
     "base_uri": "https://localhost:8080/"
    },
    "id": "3VDzzzPZNJgW",
    "outputId": "7a9e62b9-4440-441f-c8fd-e9a4d92da2b8",
    "vscode": {
     "languageId": "plaintext"
    }
   },
   "outputs": [],
   "source": [
    "# I leave all the default values in the constructor\n",
    "dse_embedder: DSE_Embedder = DSE_Embedder()"
   ]
  },
  {
   "cell_type": "markdown",
   "metadata": {
    "id": "B2J69M5eNJgW"
   },
   "source": [
    "## Initialize ChromaDB"
   ]
  },
  {
   "cell_type": "code",
   "execution_count": null,
   "metadata": {
    "id": "i5b0dFZ3NJgW",
    "vscode": {
     "languageId": "plaintext"
    }
   },
   "outputs": [],
   "source": [
    "# Initialize the client\n",
    "client = chromadb.PersistentClient(path=\"chromadb\")\n",
    "\n",
    "# Create or get a collection for text and/or image embeddings\n",
    "collection = client.get_or_create_collection(\n",
    "    # l2 is the default\n",
    "    name=\"my_collection\", metadata={\"hnsw:space\": \"cosine\"})"
   ]
  },
  {
   "cell_type": "markdown",
   "metadata": {
    "id": "LnE-aXg-NJgW"
   },
   "source": [
    "## Create and save the embeddings in Chroma"
   ]
  },
  {
   "cell_type": "code",
   "execution_count": null,
   "metadata": {
    "colab": {
     "base_uri": "https://localhost:8080/"
    },
    "id": "PtXax5wxNJgW",
    "outputId": "8153e8a1-9da3-4504-e0ab-03b883788e96",
    "vscode": {
     "languageId": "plaintext"
    }
   },
   "outputs": [],
   "source": [
    "queries: List[str] = [\"What are some good advices for the title slide?\"]\n",
    "queries_embedding_tensor = dse_embedder.embed_queries(queries)\n",
    "# Convert to list for the search in Chroma\n",
    "queries_embedding_list = queries_embedding_tensor.unsqueeze(0).tolist()\n",
    "\n",
    "for document in folder_processor.documents:\n",
    "    slides_embeddings = dse_embedder.embed_images(\n",
    "        [page.image for page in document.pages], batch_size=1)\n",
    "    text_embeddings = dse_embedder.embed_documents(\n",
    "        [page.text for page in document.pages])\n",
    "\n",
    "    document.set_page_embeddings(slides_embeddings)\n",
    "    document.set_text_embeddings(text_embeddings)\n",
    "\n",
    "    # Since we produced only the embeddings for the pages we only get those\n",
    "    doc_embedding_records = document.get_embedding_records()\n",
    "    pages_embedding_records = doc_embedding_records[\"page\"]\n",
    "    text_embedding_records = doc_embedding_records[\"text\"]\n",
    "\n",
    "    collection.add(**pages_embedding_records)\n",
    "    collection.add(**text_embedding_records)"
   ]
  },
  {
   "cell_type": "markdown",
   "metadata": {
    "id": "yJN-cW7yNJgW"
   },
   "source": [
    "## Perform search and retrieval"
   ]
  },
  {
   "cell_type": "code",
   "execution_count": null,
   "metadata": {
    "id": "JjEPCN72NJgW",
    "vscode": {
     "languageId": "plaintext"
    }
   },
   "outputs": [],
   "source": [
    "# Perform the search in the vector db\n",
    "page_results = collection.query(query_embeddings=queries_embedding_list[0], n_results=3, where={\"type\": \"page\"})\n",
    "text_results = collection.query(query_embeddings=queries_embedding_list[0], n_results=3, where={\"type\": \"text\"})\n",
    "all_results = collection.query(query_embeddings=queries_embedding_list[0], n_results=3)"
   ]
  },
  {
   "cell_type": "code",
   "execution_count": null,
   "metadata": {
    "colab": {
     "base_uri": "https://localhost:8080/",
     "height": 1000
    },
    "id": "WZpd8-WBzAuQ",
    "outputId": "59e322f1-3a49-452f-b0ee-45833f610ace"
   },
   "outputs": [],
   "source": [
    "# Show the page results as images\n",
    "for result in page_results[\"metadatas\"][0]:\n",
    "    page_image = Image.open(result[\"page_path\"])\n",
    "    print(result)\n",
    "    display.display(page_image)"
   ]
  },
  {
   "cell_type": "code",
   "execution_count": null,
   "metadata": {
    "colab": {
     "base_uri": "https://localhost:8080/"
    },
    "id": "BTn1h21I2tR1",
    "outputId": "69e92102-5f39-4454-e8ab-98467d061c5f"
   },
   "outputs": [],
   "source": [
    "# Show the page results\n",
    "print(json.dumps(page_results,indent=2))"
   ]
  },
  {
   "cell_type": "code",
   "execution_count": null,
   "metadata": {
    "colab": {
     "base_uri": "https://localhost:8080/"
    },
    "id": "f55gk-Qb02H8",
    "outputId": "285b093f-4944-42d2-a3f6-426c1c5850e4"
   },
   "outputs": [],
   "source": [
    "# Show the text results\n",
    "print(json.dumps(text_results,indent=2))"
   ]
  },
  {
   "cell_type": "code",
   "execution_count": null,
   "metadata": {
    "colab": {
     "base_uri": "https://localhost:8080/"
    },
    "id": "Gk0eGiyN2yNf",
    "outputId": "f397e888-15f5-480f-fbe1-9c96b027527b"
   },
   "outputs": [],
   "source": [
    "# Show all results\n",
    "print(json.dumps(all_results,indent=2))"
   ]
  }
 ],
 "metadata": {
  "accelerator": "GPU",
  "colab": {
   "gpuType": "L4",
   "machine_shape": "hm",
   "provenance": []
  },
  "kernelspec": {
   "display_name": "Python 3",
   "name": "python3"
  },
  "language_info": {
   "name": "python"
  }
 },
 "nbformat": 4,
 "nbformat_minor": 0
}
