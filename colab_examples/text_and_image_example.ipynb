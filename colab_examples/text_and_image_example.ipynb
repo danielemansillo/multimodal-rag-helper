{
 "cells": [
  {
   "cell_type": "markdown",
   "metadata": {
    "id": "_w3tH0w9NJgT"
   },
   "source": [
    "# Usage example in Google Colab"
   ]
  },
  {
   "cell_type": "code",
   "execution_count": null,
   "metadata": {
    "colab": {
     "base_uri": "https://localhost:8080/"
    },
    "id": "QMsGDikSNJgU",
    "outputId": "1be2c0ec-aa26-4bd2-bcca-8369ff915193",
    "vscode": {
     "languageId": "shellscript"
    }
   },
   "outputs": [],
   "source": [
    "! pip install transformers==4.41.2 pymupdf chromadb"
   ]
  },
  {
   "cell_type": "code",
   "execution_count": null,
   "metadata": {
    "id": "hC9Mxrv_UeKO"
   },
   "outputs": [],
   "source": [
    "! rm -rf multimodal-rag-helper"
   ]
  },
  {
   "cell_type": "code",
   "execution_count": null,
   "metadata": {
    "colab": {
     "base_uri": "https://localhost:8080/"
    },
    "id": "AAeddXQ4NJgV",
    "outputId": "71eefdc4-7851-4dfb-b094-986ff03439f0",
    "vscode": {
     "languageId": "shellscript"
    }
   },
   "outputs": [],
   "source": [
    "! git clone https://github.com/danielemansillo/multimodal-rag-helper.git"
   ]
  },
  {
   "cell_type": "code",
   "execution_count": null,
   "metadata": {
    "id": "u4GxO0PcNrBE"
   },
   "outputs": [],
   "source": [
    "import sys\n",
    "\n",
    "sys.path.insert(0, \"/content/multimodal-rag-helper\")"
   ]
  },
  {
   "cell_type": "code",
   "execution_count": null,
   "metadata": {
    "id": "IoHtQyYHN3GL"
   },
   "outputs": [],
   "source": [
    "import json\n",
    "from pathlib import Path\n",
    "from typing import List\n",
    "\n",
    "import chromadb\n",
    "from IPython import display\n",
    "from PIL import Image\n",
    "\n",
    "from document_processing import FolderProcessor\n",
    "from models import E5V_Embedder"
   ]
  },
  {
   "cell_type": "markdown",
   "metadata": {
    "id": "rfT6M0eVNJgV"
   },
   "source": [
    "## Initialize Folder Processor"
   ]
  },
  {
   "cell_type": "code",
   "execution_count": null,
   "metadata": {
    "id": "OZHvJqscNJgV"
   },
   "outputs": [],
   "source": [
    "folder_path = Path(\"/content/multimodal-rag-helper/presentations/\")\n",
    "folder_processor: FolderProcessor = FolderProcessor(folder_path)"
   ]
  },
  {
   "cell_type": "markdown",
   "metadata": {
    "id": "lmNqmaQiNJgW"
   },
   "source": [
    "## Initialize Embedder"
   ]
  },
  {
   "cell_type": "code",
   "execution_count": null,
   "metadata": {
    "colab": {
     "base_uri": "https://localhost:8080/",
     "height": 66,
     "referenced_widgets": [
      "53b19fc8142d43c788fd73025ebc5929",
      "dcb868db2af54ffe9fcd60752f9ddc38",
      "d4145abd92ba48c496f02f9863dee3f3",
      "f5dd651b0fb6402da3cab126ec703ed7",
      "61a417cc28e443f8a68d0197d1657620",
      "3dbab48970034d9397c001759561c3d1",
      "1906c41084d04d0791403e6a317ad43e",
      "6ee3349a07764f5188a9c3b36cbcaa3d",
      "7d6433c6978249d691124889aead8174",
      "54e82b6bd4c04bfd892f6b68cb97c0c2",
      "3985207d59a049ed92c71700c4997440"
     ]
    },
    "id": "3VDzzzPZNJgW",
    "outputId": "679d8dd2-b142-4f35-c20d-6beffd95ffb3"
   },
   "outputs": [],
   "source": [
    "# I leave all the default values in the constructor\n",
    "e5v_embedder: E5V_Embedder = E5V_Embedder()"
   ]
  },
  {
   "cell_type": "markdown",
   "metadata": {
    "id": "B2J69M5eNJgW"
   },
   "source": [
    "## Initialize ChromaDB"
   ]
  },
  {
   "cell_type": "code",
   "execution_count": null,
   "metadata": {
    "id": "i5b0dFZ3NJgW"
   },
   "outputs": [],
   "source": [
    "# Initialize the client\n",
    "client = chromadb.PersistentClient(path=\"chromadb\")\n",
    "\n",
    "# Create or get a collection for text and/or image embeddings\n",
    "collection = client.get_or_create_collection(\n",
    "    # l2 is the default\n",
    "    name=\"my_collection\", metadata={\"hnsw:space\": \"cosine\"})"
   ]
  },
  {
   "cell_type": "markdown",
   "metadata": {
    "id": "LnE-aXg-NJgW"
   },
   "source": [
    "## Create and save the embeddings in Chroma"
   ]
  },
  {
   "cell_type": "code",
   "execution_count": null,
   "metadata": {
    "id": "PtXax5wxNJgW"
   },
   "outputs": [],
   "source": [
    "queries: List[str] = [\"What are some good advices for the title slide?\"]\n",
    "queries_embedding_tensor = e5v_embedder.embed_texts(queries)\n",
    "# Convert to list for the search in Chroma\n",
    "queries_embedding_list = queries_embedding_tensor.tolist()\n",
    "\n",
    "for document in folder_processor.documents:\n",
    "    image_embeddings = e5v_embedder.embed_images([image.content for image in document.all_images], batch_size=1)\n",
    "    text_embeddings = e5v_embedder.embed_texts([text.content for text in document.all_texts])\n",
    "\n",
    "    document.set_image_embeddings(image_embeddings)\n",
    "    document.set_text_embeddings(text_embeddings)\n",
    "\n",
    "    # Since we produced only the embeddings for the pages we only get those\n",
    "    doc_embedding_records = document.get_embedding_records()\n",
    "    image_embedding_records = doc_embedding_records[\"image\"]\n",
    "    text_embedding_records = doc_embedding_records[\"text\"]\n",
    "\n",
    "    collection.add(**image_embedding_records)\n",
    "    collection.add(**text_embedding_records)"
   ]
  },
  {
   "cell_type": "markdown",
   "metadata": {
    "id": "yJN-cW7yNJgW"
   },
   "source": [
    "## Perform search and retrieval"
   ]
  },
  {
   "cell_type": "code",
   "execution_count": null,
   "metadata": {
    "id": "JjEPCN72NJgW"
   },
   "outputs": [],
   "source": [
    "# Perform the search in the vector db\n",
    "image_results = collection.query(query_embeddings=queries_embedding_list[0], n_results=3, where={\"type\": \"image\"})\n",
    "text_results = collection.query(query_embeddings=queries_embedding_list[0], n_results=3, where={\"type\": \"text\"})\n",
    "all_results = collection.query(query_embeddings=queries_embedding_list[0], n_results=3)"
   ]
  },
  {
   "cell_type": "code",
   "execution_count": null,
   "metadata": {
    "colab": {
     "base_uri": "https://localhost:8080/",
     "height": 1000
    },
    "id": "WZpd8-WBzAuQ",
    "outputId": "82ab8699-2ffb-43bd-f394-94145929f6f7"
   },
   "outputs": [],
   "source": [
    "# Show the iamge results as images\n",
    "for result in image_results[\"metadatas\"][0]:\n",
    "    image = Image.open(result[\"image_path\"])\n",
    "    print(result)\n",
    "    display.display(image)"
   ]
  },
  {
   "cell_type": "code",
   "execution_count": null,
   "metadata": {
    "colab": {
     "base_uri": "https://localhost:8080/"
    },
    "id": "BTn1h21I2tR1",
    "outputId": "c311541d-3c0d-4d94-b8cc-1ef2dae4cc3c"
   },
   "outputs": [],
   "source": [
    "# Show the image results\n",
    "print(json.dumps(image_results,indent=2))"
   ]
  },
  {
   "cell_type": "code",
   "execution_count": null,
   "metadata": {
    "colab": {
     "base_uri": "https://localhost:8080/"
    },
    "id": "f55gk-Qb02H8",
    "outputId": "df7f2cee-1a9e-402d-9b15-f80c17183e32"
   },
   "outputs": [],
   "source": [
    "# Show the text results\n",
    "print(json.dumps(text_results,indent=2))"
   ]
  },
  {
   "cell_type": "code",
   "execution_count": null,
   "metadata": {
    "colab": {
     "base_uri": "https://localhost:8080/"
    },
    "id": "Gk0eGiyN2yNf",
    "outputId": "afeeb07d-02c9-41cc-b850-862bfdd08396"
   },
   "outputs": [],
   "source": [
    "# Show all results\n",
    "print(json.dumps(all_results,indent=2))"
   ]
  }
 ],
 "metadata": {
  "accelerator": "GPU",
  "colab": {
   "gpuType": "A100",
   "machine_shape": "hm",
   "provenance": []
  },
  "kernelspec": {
   "display_name": "Python 3",
   "name": "python3"
  },
  "language_info": {
   "name": "python"
  },
  "widgets": {
   "application/vnd.jupyter.widget-state+json": {
    "1906c41084d04d0791403e6a317ad43e": {
     "model_module": "@jupyter-widgets/controls",
     "model_module_version": "1.5.0",
     "model_name": "DescriptionStyleModel",
     "state": {
      "_model_module": "@jupyter-widgets/controls",
      "_model_module_version": "1.5.0",
      "_model_name": "DescriptionStyleModel",
      "_view_count": null,
      "_view_module": "@jupyter-widgets/base",
      "_view_module_version": "1.2.0",
      "_view_name": "StyleView",
      "description_width": ""
     }
    },
    "3985207d59a049ed92c71700c4997440": {
     "model_module": "@jupyter-widgets/controls",
     "model_module_version": "1.5.0",
     "model_name": "DescriptionStyleModel",
     "state": {
      "_model_module": "@jupyter-widgets/controls",
      "_model_module_version": "1.5.0",
      "_model_name": "DescriptionStyleModel",
      "_view_count": null,
      "_view_module": "@jupyter-widgets/base",
      "_view_module_version": "1.2.0",
      "_view_name": "StyleView",
      "description_width": ""
     }
    },
    "3dbab48970034d9397c001759561c3d1": {
     "model_module": "@jupyter-widgets/base",
     "model_module_version": "1.2.0",
     "model_name": "LayoutModel",
     "state": {
      "_model_module": "@jupyter-widgets/base",
      "_model_module_version": "1.2.0",
      "_model_name": "LayoutModel",
      "_view_count": null,
      "_view_module": "@jupyter-widgets/base",
      "_view_module_version": "1.2.0",
      "_view_name": "LayoutView",
      "align_content": null,
      "align_items": null,
      "align_self": null,
      "border": null,
      "bottom": null,
      "display": null,
      "flex": null,
      "flex_flow": null,
      "grid_area": null,
      "grid_auto_columns": null,
      "grid_auto_flow": null,
      "grid_auto_rows": null,
      "grid_column": null,
      "grid_gap": null,
      "grid_row": null,
      "grid_template_areas": null,
      "grid_template_columns": null,
      "grid_template_rows": null,
      "height": null,
      "justify_content": null,
      "justify_items": null,
      "left": null,
      "margin": null,
      "max_height": null,
      "max_width": null,
      "min_height": null,
      "min_width": null,
      "object_fit": null,
      "object_position": null,
      "order": null,
      "overflow": null,
      "overflow_x": null,
      "overflow_y": null,
      "padding": null,
      "right": null,
      "top": null,
      "visibility": null,
      "width": null
     }
    },
    "53b19fc8142d43c788fd73025ebc5929": {
     "model_module": "@jupyter-widgets/controls",
     "model_module_version": "1.5.0",
     "model_name": "HBoxModel",
     "state": {
      "_dom_classes": [],
      "_model_module": "@jupyter-widgets/controls",
      "_model_module_version": "1.5.0",
      "_model_name": "HBoxModel",
      "_view_count": null,
      "_view_module": "@jupyter-widgets/controls",
      "_view_module_version": "1.5.0",
      "_view_name": "HBoxView",
      "box_style": "",
      "children": [
       "IPY_MODEL_dcb868db2af54ffe9fcd60752f9ddc38",
       "IPY_MODEL_d4145abd92ba48c496f02f9863dee3f3",
       "IPY_MODEL_f5dd651b0fb6402da3cab126ec703ed7"
      ],
      "layout": "IPY_MODEL_61a417cc28e443f8a68d0197d1657620"
     }
    },
    "54e82b6bd4c04bfd892f6b68cb97c0c2": {
     "model_module": "@jupyter-widgets/base",
     "model_module_version": "1.2.0",
     "model_name": "LayoutModel",
     "state": {
      "_model_module": "@jupyter-widgets/base",
      "_model_module_version": "1.2.0",
      "_model_name": "LayoutModel",
      "_view_count": null,
      "_view_module": "@jupyter-widgets/base",
      "_view_module_version": "1.2.0",
      "_view_name": "LayoutView",
      "align_content": null,
      "align_items": null,
      "align_self": null,
      "border": null,
      "bottom": null,
      "display": null,
      "flex": null,
      "flex_flow": null,
      "grid_area": null,
      "grid_auto_columns": null,
      "grid_auto_flow": null,
      "grid_auto_rows": null,
      "grid_column": null,
      "grid_gap": null,
      "grid_row": null,
      "grid_template_areas": null,
      "grid_template_columns": null,
      "grid_template_rows": null,
      "height": null,
      "justify_content": null,
      "justify_items": null,
      "left": null,
      "margin": null,
      "max_height": null,
      "max_width": null,
      "min_height": null,
      "min_width": null,
      "object_fit": null,
      "object_position": null,
      "order": null,
      "overflow": null,
      "overflow_x": null,
      "overflow_y": null,
      "padding": null,
      "right": null,
      "top": null,
      "visibility": null,
      "width": null
     }
    },
    "61a417cc28e443f8a68d0197d1657620": {
     "model_module": "@jupyter-widgets/base",
     "model_module_version": "1.2.0",
     "model_name": "LayoutModel",
     "state": {
      "_model_module": "@jupyter-widgets/base",
      "_model_module_version": "1.2.0",
      "_model_name": "LayoutModel",
      "_view_count": null,
      "_view_module": "@jupyter-widgets/base",
      "_view_module_version": "1.2.0",
      "_view_name": "LayoutView",
      "align_content": null,
      "align_items": null,
      "align_self": null,
      "border": null,
      "bottom": null,
      "display": null,
      "flex": null,
      "flex_flow": null,
      "grid_area": null,
      "grid_auto_columns": null,
      "grid_auto_flow": null,
      "grid_auto_rows": null,
      "grid_column": null,
      "grid_gap": null,
      "grid_row": null,
      "grid_template_areas": null,
      "grid_template_columns": null,
      "grid_template_rows": null,
      "height": null,
      "justify_content": null,
      "justify_items": null,
      "left": null,
      "margin": null,
      "max_height": null,
      "max_width": null,
      "min_height": null,
      "min_width": null,
      "object_fit": null,
      "object_position": null,
      "order": null,
      "overflow": null,
      "overflow_x": null,
      "overflow_y": null,
      "padding": null,
      "right": null,
      "top": null,
      "visibility": null,
      "width": null
     }
    },
    "6ee3349a07764f5188a9c3b36cbcaa3d": {
     "model_module": "@jupyter-widgets/base",
     "model_module_version": "1.2.0",
     "model_name": "LayoutModel",
     "state": {
      "_model_module": "@jupyter-widgets/base",
      "_model_module_version": "1.2.0",
      "_model_name": "LayoutModel",
      "_view_count": null,
      "_view_module": "@jupyter-widgets/base",
      "_view_module_version": "1.2.0",
      "_view_name": "LayoutView",
      "align_content": null,
      "align_items": null,
      "align_self": null,
      "border": null,
      "bottom": null,
      "display": null,
      "flex": null,
      "flex_flow": null,
      "grid_area": null,
      "grid_auto_columns": null,
      "grid_auto_flow": null,
      "grid_auto_rows": null,
      "grid_column": null,
      "grid_gap": null,
      "grid_row": null,
      "grid_template_areas": null,
      "grid_template_columns": null,
      "grid_template_rows": null,
      "height": null,
      "justify_content": null,
      "justify_items": null,
      "left": null,
      "margin": null,
      "max_height": null,
      "max_width": null,
      "min_height": null,
      "min_width": null,
      "object_fit": null,
      "object_position": null,
      "order": null,
      "overflow": null,
      "overflow_x": null,
      "overflow_y": null,
      "padding": null,
      "right": null,
      "top": null,
      "visibility": null,
      "width": null
     }
    },
    "7d6433c6978249d691124889aead8174": {
     "model_module": "@jupyter-widgets/controls",
     "model_module_version": "1.5.0",
     "model_name": "ProgressStyleModel",
     "state": {
      "_model_module": "@jupyter-widgets/controls",
      "_model_module_version": "1.5.0",
      "_model_name": "ProgressStyleModel",
      "_view_count": null,
      "_view_module": "@jupyter-widgets/base",
      "_view_module_version": "1.2.0",
      "_view_name": "StyleView",
      "bar_color": null,
      "description_width": ""
     }
    },
    "d4145abd92ba48c496f02f9863dee3f3": {
     "model_module": "@jupyter-widgets/controls",
     "model_module_version": "1.5.0",
     "model_name": "FloatProgressModel",
     "state": {
      "_dom_classes": [],
      "_model_module": "@jupyter-widgets/controls",
      "_model_module_version": "1.5.0",
      "_model_name": "FloatProgressModel",
      "_view_count": null,
      "_view_module": "@jupyter-widgets/controls",
      "_view_module_version": "1.5.0",
      "_view_name": "ProgressView",
      "bar_style": "success",
      "description": "",
      "description_tooltip": null,
      "layout": "IPY_MODEL_6ee3349a07764f5188a9c3b36cbcaa3d",
      "max": 4,
      "min": 0,
      "orientation": "horizontal",
      "style": "IPY_MODEL_7d6433c6978249d691124889aead8174",
      "value": 4
     }
    },
    "dcb868db2af54ffe9fcd60752f9ddc38": {
     "model_module": "@jupyter-widgets/controls",
     "model_module_version": "1.5.0",
     "model_name": "HTMLModel",
     "state": {
      "_dom_classes": [],
      "_model_module": "@jupyter-widgets/controls",
      "_model_module_version": "1.5.0",
      "_model_name": "HTMLModel",
      "_view_count": null,
      "_view_module": "@jupyter-widgets/controls",
      "_view_module_version": "1.5.0",
      "_view_name": "HTMLView",
      "description": "",
      "description_tooltip": null,
      "layout": "IPY_MODEL_3dbab48970034d9397c001759561c3d1",
      "placeholder": "​",
      "style": "IPY_MODEL_1906c41084d04d0791403e6a317ad43e",
      "value": "Loading checkpoint shards: 100%"
     }
    },
    "f5dd651b0fb6402da3cab126ec703ed7": {
     "model_module": "@jupyter-widgets/controls",
     "model_module_version": "1.5.0",
     "model_name": "HTMLModel",
     "state": {
      "_dom_classes": [],
      "_model_module": "@jupyter-widgets/controls",
      "_model_module_version": "1.5.0",
      "_model_name": "HTMLModel",
      "_view_count": null,
      "_view_module": "@jupyter-widgets/controls",
      "_view_module_version": "1.5.0",
      "_view_name": "HTMLView",
      "description": "",
      "description_tooltip": null,
      "layout": "IPY_MODEL_54e82b6bd4c04bfd892f6b68cb97c0c2",
      "placeholder": "​",
      "style": "IPY_MODEL_3985207d59a049ed92c71700c4997440",
      "value": " 4/4 [00:04&lt;00:00,  1.05s/it]"
     }
    }
   }
  }
 },
 "nbformat": 4,
 "nbformat_minor": 0
}
